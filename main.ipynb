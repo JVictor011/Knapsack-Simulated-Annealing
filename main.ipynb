{
 "cells": [
  {
   "cell_type": "code",
   "execution_count": 1,
   "metadata": {},
   "outputs": [],
   "source": [
    "import math, random"
   ]
  },
  {
   "cell_type": "code",
   "execution_count": 2,
   "metadata": {},
   "outputs": [],
   "source": [
    "max_capacity = 500 # maximum capacity of the knapsack 500 kilograms\n",
    "start_temperature = 1000 # initial temperature"
   ]
  },
  {
   "cell_type": "code",
   "execution_count": 3,
   "metadata": {},
   "outputs": [],
   "source": [
    "def get_random_twenties_itens():\n",
    "    return [(i, random.randint(1, 50), random.randint(1, 100)) for i in range(20)] #first is the weight and second is the priority"
   ]
  },
  {
   "cell_type": "code",
   "execution_count": 4,
   "metadata": {},
   "outputs": [],
   "source": [
    "def print_formated_list_of_itens(list_of_itens):\n",
    "    print(\"# items \" ,end=\"\\t\")\n",
    "    for i in list_of_itens:\n",
    "        print(i[0], end=\"\\t\")\n",
    "    \n",
    "    print(\"\\n# priority \", end=\"\\t\")\n",
    "    for i in list_of_itens:\n",
    "        print(i[1], end=\"\\t\")\n",
    "\n",
    "    print(\"\\n# weight \", end=\"\\t\")\n",
    "    for i in list_of_itens:\n",
    "        print(i[2], end=\"\\t\")\n",
    "\n",
    "    print(\"\\n\\n# max capacity = \", max_capacity)\n"
   ]
  },
  {
   "cell_type": "code",
   "execution_count": 7,
   "metadata": {},
   "outputs": [
    {
     "name": "stdout",
     "output_type": "stream",
     "text": [
      "# items \t0\t1\t2\t3\t4\t5\t6\t7\t8\t9\t10\t11\t12\t13\t14\t15\t16\t17\t18\t19\t\n",
      "# priority \t14\t23\t26\t12\t25\t11\t2\t34\t41\t12\t35\t43\t29\t4\t14\t40\t35\t34\t5\t3\t\n",
      "# weight \t16\t47\t95\t35\t7\t15\t20\t29\t57\t30\t90\t83\t15\t85\t86\t86\t59\t40\t45\t25\t\n",
      "\n",
      "# max capacity =  500\n",
      "\n",
      "# choosed items = 1 1 1 0 1 1 0 1 1 0 0 1 1 0 0 1 0 1 0 0 \n",
      "# solution =  [(0, 14, 16), (1, 23, 47), (2, 26, 95), (4, 25, 7), (5, 11, 15), (7, 34, 29), (8, 41, 57), (11, 43, 83), (12, 29, 15), (15, 40, 86), (17, 34, 40)]\n",
      "# weight = 490 of 500\n",
      "# priority value = 320\n"
     ]
    }
   ],
   "source": [
    "\n",
    "list_of_itens = get_random_twenties_itens()\n",
    "\n",
    "def simulated_annealing(list_of_itens, max_capacity, start_temperature):\n",
    "    def get_weight(solution):\n",
    "        return sum(item[2] for item in solution)\n",
    "\n",
    "    def get_priority(solution):\n",
    "        return sum(item[1] for item in solution)\n",
    "\n",
    "    def get_neighbor(solution):\n",
    "        neighbor = solution[:]\n",
    "        if random.random() > 0.5 and len(neighbor) > 0:\n",
    "            # Remove an item\n",
    "            neighbor.remove(random.choice(neighbor))\n",
    "        else:\n",
    "            # Add an item\n",
    "            item = random.choice(list_of_itens)\n",
    "            if item not in neighbor and get_weight(neighbor) + item[2] <= max_capacity:\n",
    "                neighbor.append(item)\n",
    "        return neighbor\n",
    "\n",
    "    current_solution = []\n",
    "    current_temperature = start_temperature\n",
    "    best_solution = current_solution\n",
    "\n",
    "    while current_temperature > 1:\n",
    "        new_solution = get_neighbor(current_solution)\n",
    "        current_weight = get_weight(current_solution)\n",
    "        new_weight = get_weight(new_solution)\n",
    "\n",
    "        if new_weight <= max_capacity:\n",
    "            current_priority = get_priority(current_solution)\n",
    "            new_priority = get_priority(new_solution)\n",
    "\n",
    "            if new_priority > current_priority or random.random() < math.exp((new_priority - current_priority) / current_temperature):\n",
    "                current_solution = new_solution\n",
    "\n",
    "            if get_priority(current_solution) > get_priority(best_solution):\n",
    "                best_solution = current_solution\n",
    "\n",
    "        current_temperature *= 0.99\n",
    "\n",
    "    return best_solution\n",
    "\n",
    "print_formated_list_of_itens(list_of_itens)\n",
    "\n",
    "solution = simulated_annealing(list_of_itens, max_capacity, start_temperature)\n",
    "print(\"\\n# choosed items =\" ,end=\" \")\n",
    "for itens in list_of_itens:\n",
    "    if itens in solution:\n",
    "        print(\"1\", end=\" \")\n",
    "    else:\n",
    "        print(\"0\", end=\" \")\n",
    "\n",
    "solution.sort(key=lambda x: x[0])\n",
    "print(\"\\n# solution = \", solution)\n",
    "print(\"# weight =\", str(sum(item[2] for item in solution)) + \" of \" + str(max_capacity))\n",
    "print(\"# priority value =\", sum(item[1] for item in solution))"
   ]
  }
 ],
 "metadata": {
  "kernelspec": {
   "display_name": "Python 3",
   "language": "python",
   "name": "python3"
  },
  "language_info": {
   "codemirror_mode": {
    "name": "ipython",
    "version": 3
   },
   "file_extension": ".py",
   "mimetype": "text/x-python",
   "name": "python",
   "nbconvert_exporter": "python",
   "pygments_lexer": "ipython3",
   "version": "3.10.11"
  }
 },
 "nbformat": 4,
 "nbformat_minor": 2
}
